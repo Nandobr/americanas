{
  "nbformat": 4,
  "nbformat_minor": 0,
  "metadata": {
    "colab": {
      "name": "App americanas deployed from colab.ipynb",
      "provenance": [],
      "authorship_tag": "ABX9TyPGUJygYR8blOK5sdl3lmuV"
    },
    "kernelspec": {
      "name": "python3",
      "display_name": "Python 3"
    },
    "language_info": {
      "name": "python"
    }
  },
  "cells": [
    {
      "cell_type": "markdown",
      "metadata": {
        "id": "hKNUjbiik8uZ"
      },
      "source": [
        "# FLASK in Google Colab deploying through Heroku\n",
        "Deploying ML web app on Heroku using Colab.  \n",
        "Fonte:  \n",
        "https://medium.com/@amannair723/flask-in-colab-deploying-in-heroku-80a479263b17"
      ]
    },
    {
      "cell_type": "code",
      "metadata": {
        "colab": {
          "base_uri": "https://localhost:8080/"
        },
        "id": "GENdXf1Oksaa",
        "outputId": "3841fb80-f205-4f5b-dd18-46de4cb6b19e"
      },
      "source": [
        "# Instala Flask no Colab\n",
        "!pip install flask-ngrok\n",
        "%mkdir templates -p\n",
        "%mkdir static/css -p"
      ],
      "execution_count": 1,
      "outputs": [
        {
          "output_type": "stream",
          "text": [
            "Collecting flask-ngrok\n",
            "  Downloading https://files.pythonhosted.org/packages/af/6c/f54cb686ad1129e27d125d182f90f52b32f284e6c8df58c1bae54fa1adbc/flask_ngrok-0.0.25-py3-none-any.whl\n",
            "Requirement already satisfied: requests in /usr/local/lib/python3.7/dist-packages (from flask-ngrok) (2.23.0)\n",
            "Requirement already satisfied: Flask>=0.8 in /usr/local/lib/python3.7/dist-packages (from flask-ngrok) (1.1.2)\n",
            "Requirement already satisfied: idna<3,>=2.5 in /usr/local/lib/python3.7/dist-packages (from requests->flask-ngrok) (2.10)\n",
            "Requirement already satisfied: certifi>=2017.4.17 in /usr/local/lib/python3.7/dist-packages (from requests->flask-ngrok) (2020.12.5)\n",
            "Requirement already satisfied: urllib3!=1.25.0,!=1.25.1,<1.26,>=1.21.1 in /usr/local/lib/python3.7/dist-packages (from requests->flask-ngrok) (1.24.3)\n",
            "Requirement already satisfied: chardet<4,>=3.0.2 in /usr/local/lib/python3.7/dist-packages (from requests->flask-ngrok) (3.0.4)\n",
            "Requirement already satisfied: click>=5.1 in /usr/local/lib/python3.7/dist-packages (from Flask>=0.8->flask-ngrok) (7.1.2)\n",
            "Requirement already satisfied: itsdangerous>=0.24 in /usr/local/lib/python3.7/dist-packages (from Flask>=0.8->flask-ngrok) (1.1.0)\n",
            "Requirement already satisfied: Jinja2>=2.10.1 in /usr/local/lib/python3.7/dist-packages (from Flask>=0.8->flask-ngrok) (2.11.3)\n",
            "Requirement already satisfied: Werkzeug>=0.15 in /usr/local/lib/python3.7/dist-packages (from Flask>=0.8->flask-ngrok) (1.0.1)\n",
            "Requirement already satisfied: MarkupSafe>=0.23 in /usr/local/lib/python3.7/dist-packages (from Jinja2>=2.10.1->Flask>=0.8->flask-ngrok) (1.1.1)\n",
            "Installing collected packages: flask-ngrok\n",
            "Successfully installed flask-ngrok-0.0.25\n"
          ],
          "name": "stdout"
        }
      ]
    },
    {
      "cell_type": "code",
      "metadata": {
        "colab": {
          "base_uri": "https://localhost:8080/"
        },
        "id": "rmCpu7JGl1ZB",
        "outputId": "0270f961-355b-4eeb-869e-90036ccbf265"
      },
      "source": [
        "# Cria index.html no diretório template\n",
        "%%writefile templates/index.html\n",
        "<!DOCTYPE html>\n",
        "<html >\n",
        "<!--From https://codepen.io/frytyler/pen/EGdtg-->\n",
        "<head>\n",
        " <meta charset=\"UTF-8\">\n",
        " <title>SPAM_API</title>\n",
        " <link href='https://fonts.googleapis.com/css?family=Pacifico' rel='stylesheet' type='text/css'>\n",
        "</head>\n",
        "<body>\n",
        "<div class=\"login\">\n",
        "    <h1>Spam detection</h1>\n",
        "    <!-- Main Input For Receiving Query to our ML -->\n",
        "    <form action=\"{{ url_for('predict')}}\"method=\"post\">\n",
        "    <textarea id=\"styled\" name=\"message\" rows=\"6\" cols=\"50\" placeholder=\"Enter Your Message Here\" required=\"required\" ></textarea>\n",
        "    <button type=\"submit\" class=\"btn btn-primary btn-block btn-large\">Predict</button>\n",
        "   </form>\n",
        "  <br>\n",
        "  <br>\n",
        "  {{ prediction_text }}\n",
        "</div>\n",
        "</body>\n",
        "</html>\n"
      ],
      "execution_count": 3,
      "outputs": [
        {
          "output_type": "stream",
          "text": [
            "Overwriting templates/index.html\n"
          ],
          "name": "stdout"
        }
      ]
    },
    {
      "cell_type": "code",
      "metadata": {
        "colab": {
          "base_uri": "https://localhost:8080/"
        },
        "id": "CIecbGbgnOfC",
        "outputId": "a2e87b3c-617b-4c67-b75b-aa63186df146"
      },
      "source": [
        "# Cria arquivo app.py que carrega modelo treinado, recebe dados entrada e faz predição .\n",
        "%%writefile app.py\n",
        "#importing libraries\n",
        "import numpy as np\n",
        "from flask import Flask, request, jsonify, render_template\n",
        "from flask_ngrok import run_with_ngrok\n",
        "import pickle\n",
        "#creating the flask object\n",
        "app = Flask(__name__)\n",
        "run_with_ngrok(app)\n",
        "#loading the model weights\n",
        "filename = r\"/content/new_nlp_model.pkl\"\n",
        "clf = pickle.load(open(filename, 'rb'))\n",
        "cv=pickle.load(open(r\"/content/new_tranform.pkl\",'rb'))\n",
        "#create routes\n",
        "@app.route('/')\n",
        "def home():\n",
        "   return render_template('index.html')\n",
        "@app.route('/predict',methods=['POST'])\n",
        "def predict():\n",
        "   '''\n",
        "   For rendering results on HTML GUI\n",
        "   '''\n",
        "   if request.method == 'POST':\n",
        "       message = request.form['message']\n",
        "       data = [message]\n",
        "       vect = cv.transform(data).toarray()\n",
        "       my_prediction = clf.predict(vect)\n",
        "       if my_prediction == 1:\n",
        "           output = \"a Spam\"\n",
        "       elif my_prediction == 0:\n",
        "           output = \"Not a Spam\"\n",
        "  \n",
        "   outputs = 'This email is '+output\n",
        "   return render_template('index2.html', prediction_text=outputs , value=message)\n",
        "if __name__ == \"__main__\":\n",
        "   app.run()\n"
      ],
      "execution_count": 4,
      "outputs": [
        {
          "output_type": "stream",
          "text": [
            "Writing app.py\n"
          ],
          "name": "stdout"
        }
      ]
    },
    {
      "cell_type": "code",
      "metadata": {
        "colab": {
          "base_uri": "https://localhost:8080/"
        },
        "id": "Aw4aoHG3p3uj",
        "outputId": "b1d14ae7-e010-48e9-ebd4-5df72f8d79ec"
      },
      "source": [
        "%%writefile Procfile.txt\n",
        "web: gunicorn app:app"
      ],
      "execution_count": 5,
      "outputs": [
        {
          "output_type": "stream",
          "text": [
            "Writing Procfile.txt\n"
          ],
          "name": "stdout"
        }
      ]
    },
    {
      "cell_type": "code",
      "metadata": {
        "colab": {
          "base_uri": "https://localhost:8080/"
        },
        "id": "6Xe7wylore3d",
        "outputId": "bbb18482-a1e1-4a49-9f22-3baddb260b3e"
      },
      "source": [
        "%%writefile requirement.txt\n",
        "Flask==1.1.1\n",
        "gunicorn=19.9.0\n",
        "numpy>=1.9.2\n",
        "matplotlib>=1.4.3\n",
        "Pandas>=0.19\n"
      ],
      "execution_count": 6,
      "outputs": [
        {
          "output_type": "stream",
          "text": [
            "Writing requirement.txt\n"
          ],
          "name": "stdout"
        }
      ]
    },
    {
      "cell_type": "code",
      "metadata": {
        "id": "x6ts-ujjrpgz"
      },
      "source": [
        ""
      ],
      "execution_count": null,
      "outputs": []
    }
  ]
}